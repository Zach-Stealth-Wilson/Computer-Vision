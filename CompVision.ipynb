{
 "cells": [
  {
   "cell_type": "markdown",
   "id": "ecc2b2d2",
   "metadata": {},
   "source": [
    "Zach Wilson\n",
    "April 23 2025\n",
    "CNN Color Polygon recongnition, Baseline 57%\n",
    "\n",
    "Import libraries to be used."
   ]
  },
  {
   "cell_type": "code",
   "execution_count": 240,
   "id": "ed9a224e",
   "metadata": {},
   "outputs": [],
   "source": [
    "import matplotlib.pyplot as plt\n",
    "import numpy as np\n",
    "import pandas as pd\n",
    "from tensorflow.keras.utils import to_categorical\n",
    "from tensorflow.keras import models\n",
    "from tensorflow.keras import layers\n",
    "from tensorflow.data import Dataset\n",
    "from tensorflow.keras import datasets\n",
    "import tensorflow_datasets as tfds\n",
    "from tensorflow.keras.layers import Normalization, RandomRotation, Rescaling, RandomZoom, RandomTranslation\n",
    "from tensorflow.keras.losses import SparseCategoricalCrossentropy\n",
    "import tensorflow as tf"
   ]
  },
  {
   "cell_type": "markdown",
   "id": "777277c9",
   "metadata": {},
   "source": [
    "Print labels to see data distribution."
   ]
  },
  {
   "cell_type": "code",
   "execution_count": 241,
   "id": "6d7103cc",
   "metadata": {},
   "outputs": [
    {
     "name": "stdout",
     "output_type": "stream",
     "text": [
      "   Unnamed: 0                                  filename  sides bg_color  \\\n",
      "0           0  70aaa621-1345-4541-a954-ee9856daaf18.png      4     blue   \n",
      "1           1  ea0d8d14-596a-4365-b007-6325fc96e0f4.png      3    black   \n",
      "2           2  48c1fc5a-8b6b-4555-bb6a-a7d42a5cedc2.png      4   yellow   \n",
      "3           3  ad721906-604c-4682-ae5d-15539ef1dbc7.png      3    green   \n",
      "4           4  510dd5ea-fb92-432e-91cc-ed4654a03ebd.png      6    white   \n",
      "\n",
      "  fg_color  bound_circle_x  bound_circle_y  bound_circle_r  rotation  \n",
      "0     pink              29              39              15       185  \n",
      "1   yellow              66              66              21       215  \n",
      "2      red              59             103              20        59  \n",
      "3     pink              65              66              61       272  \n",
      "4    green              48              56              42        38  \n"
     ]
    }
   ],
   "source": [
    "import pandas as pd\n",
    "import os\n",
    "\n",
    "# Load labels\n",
    "csv_path = \"../Poly/targets.csv\"  \n",
    "\n",
    "df = pd.read_csv(csv_path)\n",
    "\n",
    "# Peek at data\n",
    "print(df.head())\n"
   ]
  },
  {
   "cell_type": "markdown",
   "id": "f8ea57f1",
   "metadata": {},
   "source": [
    "After reading and seeing some information about the data, load the data, resize, and normalize.\n",
    "\n",
    "To properly function I must remove the unwanted labels from the index of 0-2, and 7-10.\n",
    "Then I remap the shapes to the index of 0-3 to align with the shapes (triangle, square, pentagon, hexagon)\n",
    "\n"
   ]
  },
  {
   "cell_type": "code",
   "execution_count": null,
   "id": "d20d63fc",
   "metadata": {},
   "outputs": [],
   "source": [
    "# Constants\n",
    "IMG_DIR = \"../Poly/images/content/images\"\n",
    "IMG_SIZE = (128, 128)\n",
    "\n",
    "# Extract filenames and labels\n",
    "filepaths = df['filename'].apply(lambda x: os.path.join(IMG_DIR, x)).values\n",
    "\n",
    "df = df[df['sides'].isin([3, 4, 5, 6])].reset_index(drop=True) #include specific polygon shapes\n",
    "label_map = {3: 0, 4: 1, 5: 2, 6: 3} #remap the sphapes to 0-3 to match \"SHAPES\"\n",
    "labels = df['sides'].map(label_map).values\n",
    "\n",
    "\n",
    "# Function to load and preprocess each image\n",
    "def process_image(filepath, label):\n",
    "    image = tf.io.read_file(filepath)\n",
    "    image = tf.image.decode_png(image, channels=1) #greyscale\n",
    "    image = tf.image.resize(image, IMG_SIZE)\n",
    "    image = image / 255.0\n",
    "    return image, label"
   ]
  },
  {
   "cell_type": "markdown",
   "id": "a6325d70",
   "metadata": {},
   "source": [
    "Next I split the data into training, validation, and testing sets giving 10% to filepathes_test and Labels_test, and 90% to Filepaths_trainval and Labels_trainval.\n",
    "Then using that 90% I give 20% of that for validation, and the remaining is used for training."
   ]
  },
  {
   "cell_type": "code",
   "execution_count": null,
   "id": "05a313ca",
   "metadata": {},
   "outputs": [],
   "source": [
    "# Shuffle the data\n",
    "from sklearn.model_selection import train_test_split\n",
    "\n",
    "#Split into train+val and test\n",
    "filepaths_trainval, filepaths_test, labels_trainval, labels_test = train_test_split(\n",
    "    filepaths, labels, test_size=0.1, random_state=42)\n",
    "\n",
    "#Split train+val into train and val\n",
    "filepaths_train, filepaths_val, labels_train, labels_val = train_test_split(\n",
    "    filepaths_trainval, labels_trainval, test_size=0.2, random_state=42)\n"
   ]
  },
  {
   "cell_type": "markdown",
   "id": "1cc44dbc",
   "metadata": {},
   "source": [
    "Build the dataset and batch it for parallelization"
   ]
  },
  {
   "cell_type": "code",
   "execution_count": 244,
   "id": "6588763b",
   "metadata": {},
   "outputs": [],
   "source": [
    "def build_dataset(filepaths, labels, shuffle=False):\n",
    "    ds = tf.data.Dataset.from_tensor_slices((filepaths, labels))\n",
    "    ds = ds.map(process_image)\n",
    "    ds = ds.batch(32)\n",
    "    return ds\n",
    "\n",
    "train_ds = build_dataset(filepaths_train, labels_train, shuffle=True)\n",
    "val_ds   = build_dataset(filepaths_val, labels_val)\n",
    "test_ds  = build_dataset(filepaths_test, labels_test)\n"
   ]
  },
  {
   "cell_type": "markdown",
   "id": "1ad90d72",
   "metadata": {},
   "source": [
    "Print the size of the test data to ensure it a good size with various examples"
   ]
  },
  {
   "cell_type": "code",
   "execution_count": 245,
   "id": "41605332",
   "metadata": {},
   "outputs": [
    {
     "name": "stdout",
     "output_type": "stream",
     "text": [
      "Test set size: 1000\n"
     ]
    }
   ],
   "source": [
    "print(\"Test set size:\", len(filepaths_test))\n"
   ]
  },
  {
   "cell_type": "markdown",
   "id": "8c8fc209",
   "metadata": {},
   "source": [
    "Working to increase the accuracy from the baseline, I implement data augmentation to prevent overfitting"
   ]
  },
  {
   "cell_type": "code",
   "execution_count": 246,
   "id": "24b62b3e",
   "metadata": {},
   "outputs": [],
   "source": [
    "data_augmentation = tf.keras.Sequential([\n",
    "    layers.RandomFlip(\"horizontal\"),\n",
    "    layers.RandomRotation(0.1),\n",
    "    layers.RandomZoom(0.1),\n",
    "    layers.RandomTranslation(0.1, 0.1),\n",
    "])\n"
   ]
  },
  {
   "cell_type": "markdown",
   "id": "5ff79af5",
   "metadata": {},
   "source": [
    "Sequential CNN Model using pooling layers.\n",
    "\n",
    "After seeing the sporadic nature of the Training and validation accuracy curves, I add batch normalization, to help speed up convergence.\n",
    "My initial CNN, consisted of multiple layers of dropout. Once I noticed that my training accuracy was severly lower than my validation from the graph, I removed the dropout, allowing for my model to learn past the local minimum previously found."
   ]
  },
  {
   "cell_type": "code",
   "execution_count": 247,
   "id": "0cf6d277",
   "metadata": {},
   "outputs": [],
   "source": [
    "def cnn_model(input_shape=(128, 128, 1), num_classes=10):\n",
    "    model = models.Sequential([\n",
    "        data_augmentation,\n",
    "        layers.Conv2D(32, (3, 3), activation='relu', input_shape=input_shape),\n",
    "        layers.BatchNormalization(),\n",
    "        layers.Conv2D(64, (3, 3), activation='relu'),\n",
    "        layers.MaxPooling2D(pool_size=(2, 2)),\n",
    "        #layers.Dropout(0.25),\n",
    "\n",
    "        layers.Flatten(),\n",
    "        layers.Dense(128, activation='relu'),\n",
    "        #layers.Dropout(0.5),\n",
    "        layers.Dense(num_classes, activation='softmax')\n",
    "    ])\n",
    "    return model\n"
   ]
  },
  {
   "cell_type": "markdown",
   "id": "1b7ca67e",
   "metadata": {},
   "source": [
    "Instantiate and compile the CNN choosing an optimizer and a loss function, including accuracy as a metric."
   ]
  },
  {
   "cell_type": "code",
   "execution_count": 248,
   "id": "cdff22e8",
   "metadata": {},
   "outputs": [
    {
     "name": "stderr",
     "output_type": "stream",
     "text": [
      "/usr/local/lib/python3.12/dist-packages/keras/src/layers/convolutional/base_conv.py:107: UserWarning: Do not pass an `input_shape`/`input_dim` argument to a layer. When using Sequential models, prefer using an `Input(shape)` object as the first layer in the model instead.\n",
      "  super().__init__(activity_regularizer=activity_regularizer, **kwargs)\n"
     ]
    }
   ],
   "source": [
    "model = cnn_model(input_shape=(128, 128, 1), num_classes=10)\n",
    "\n",
    "model.compile(\n",
    "    optimizer='adam',\n",
    "    loss=tf.keras.losses.SparseCategoricalCrossentropy(),\n",
    "    metrics=['accuracy']\n",
    ")\n"
   ]
  },
  {
   "cell_type": "markdown",
   "id": "b262275c",
   "metadata": {},
   "source": [
    "Train on GPU"
   ]
  },
  {
   "cell_type": "code",
   "execution_count": 249,
   "id": "008b39e2",
   "metadata": {},
   "outputs": [
    {
     "name": "stdout",
     "output_type": "stream",
     "text": [
      "Num GPUs Available: 1\n",
      "Available GPUs: [PhysicalDevice(name='/physical_device:GPU:0', device_type='GPU')]\n"
     ]
    }
   ],
   "source": [
    "import tensorflow as tf\n",
    "\n",
    "# Print list of available physical devices\n",
    "print(\"Num GPUs Available:\", len(tf.config.list_physical_devices('GPU')))\n",
    "print(\"Available GPUs:\", tf.config.list_physical_devices('GPU'))\n"
   ]
  },
  {
   "cell_type": "markdown",
   "id": "655bcfe0",
   "metadata": {},
   "source": [
    "Record the history of the model as I train it over 20 epochs passing both training and validation sets."
   ]
  },
  {
   "cell_type": "code",
   "execution_count": 250,
   "id": "4cc2f7c5",
   "metadata": {},
   "outputs": [
    {
     "name": "stdout",
     "output_type": "stream",
     "text": [
      "Epoch 1/20\n",
      "\u001b[1m225/225\u001b[0m \u001b[32m━━━━━━━━━━━━━━━━━━━━\u001b[0m\u001b[37m\u001b[0m \u001b[1m9s\u001b[0m 30ms/step - accuracy: 0.2722 - loss: 6.2926 - val_accuracy: 0.2822 - val_loss: 1.4180\n",
      "Epoch 2/20\n",
      "\u001b[1m225/225\u001b[0m \u001b[32m━━━━━━━━━━━━━━━━━━━━\u001b[0m\u001b[37m\u001b[0m \u001b[1m7s\u001b[0m 30ms/step - accuracy: 0.3333 - loss: 1.3471 - val_accuracy: 0.3367 - val_loss: 1.3681\n",
      "Epoch 3/20\n",
      "\u001b[1m225/225\u001b[0m \u001b[32m━━━━━━━━━━━━━━━━━━━━\u001b[0m\u001b[37m\u001b[0m \u001b[1m7s\u001b[0m 29ms/step - accuracy: 0.3545 - loss: 1.3091 - val_accuracy: 0.3833 - val_loss: 1.3700\n",
      "Epoch 4/20\n",
      "\u001b[1m225/225\u001b[0m \u001b[32m━━━━━━━━━━━━━━━━━━━━\u001b[0m\u001b[37m\u001b[0m \u001b[1m7s\u001b[0m 29ms/step - accuracy: 0.3882 - loss: 1.2746 - val_accuracy: 0.4067 - val_loss: 1.2545\n",
      "Epoch 5/20\n",
      "\u001b[1m225/225\u001b[0m \u001b[32m━━━━━━━━━━━━━━━━━━━━\u001b[0m\u001b[37m\u001b[0m \u001b[1m7s\u001b[0m 30ms/step - accuracy: 0.4026 - loss: 1.2230 - val_accuracy: 0.3528 - val_loss: 1.7816\n",
      "Epoch 6/20\n",
      "\u001b[1m225/225\u001b[0m \u001b[32m━━━━━━━━━━━━━━━━━━━━\u001b[0m\u001b[37m\u001b[0m \u001b[1m7s\u001b[0m 30ms/step - accuracy: 0.4418 - loss: 1.1828 - val_accuracy: 0.4500 - val_loss: 1.2019\n",
      "Epoch 7/20\n",
      "\u001b[1m225/225\u001b[0m \u001b[32m━━━━━━━━━━━━━━━━━━━━\u001b[0m\u001b[37m\u001b[0m \u001b[1m7s\u001b[0m 30ms/step - accuracy: 0.4491 - loss: 1.1632 - val_accuracy: 0.4344 - val_loss: 1.3948\n",
      "Epoch 8/20\n",
      "\u001b[1m225/225\u001b[0m \u001b[32m━━━━━━━━━━━━━━━━━━━━\u001b[0m\u001b[37m\u001b[0m \u001b[1m7s\u001b[0m 30ms/step - accuracy: 0.4914 - loss: 1.0868 - val_accuracy: 0.5833 - val_loss: 0.9219\n",
      "Epoch 9/20\n",
      "\u001b[1m225/225\u001b[0m \u001b[32m━━━━━━━━━━━━━━━━━━━━\u001b[0m\u001b[37m\u001b[0m \u001b[1m7s\u001b[0m 30ms/step - accuracy: 0.5639 - loss: 0.9652 - val_accuracy: 0.4894 - val_loss: 2.0444\n",
      "Epoch 10/20\n",
      "\u001b[1m225/225\u001b[0m \u001b[32m━━━━━━━━━━━━━━━━━━━━\u001b[0m\u001b[37m\u001b[0m \u001b[1m7s\u001b[0m 30ms/step - accuracy: 0.6215 - loss: 0.8814 - val_accuracy: 0.4928 - val_loss: 2.6833\n",
      "Epoch 11/20\n",
      "\u001b[1m225/225\u001b[0m \u001b[32m━━━━━━━━━━━━━━━━━━━━\u001b[0m\u001b[37m\u001b[0m \u001b[1m7s\u001b[0m 29ms/step - accuracy: 0.6515 - loss: 0.7901 - val_accuracy: 0.7006 - val_loss: 0.6757\n",
      "Epoch 12/20\n",
      "\u001b[1m225/225\u001b[0m \u001b[32m━━━━━━━━━━━━━━━━━━━━\u001b[0m\u001b[37m\u001b[0m \u001b[1m7s\u001b[0m 29ms/step - accuracy: 0.7014 - loss: 0.7085 - val_accuracy: 0.7744 - val_loss: 0.5546\n",
      "Epoch 13/20\n",
      "\u001b[1m225/225\u001b[0m \u001b[32m━━━━━━━━━━━━━━━━━━━━\u001b[0m\u001b[37m\u001b[0m \u001b[1m7s\u001b[0m 29ms/step - accuracy: 0.7528 - loss: 0.6014 - val_accuracy: 0.6983 - val_loss: 0.8953\n",
      "Epoch 14/20\n",
      "\u001b[1m225/225\u001b[0m \u001b[32m━━━━━━━━━━━━━━━━━━━━\u001b[0m\u001b[37m\u001b[0m \u001b[1m7s\u001b[0m 30ms/step - accuracy: 0.7851 - loss: 0.5408 - val_accuracy: 0.7617 - val_loss: 0.6041\n",
      "Epoch 15/20\n",
      "\u001b[1m225/225\u001b[0m \u001b[32m━━━━━━━━━━━━━━━━━━━━\u001b[0m\u001b[37m\u001b[0m \u001b[1m7s\u001b[0m 29ms/step - accuracy: 0.7474 - loss: 0.6514 - val_accuracy: 0.8506 - val_loss: 0.4164\n",
      "Epoch 16/20\n",
      "\u001b[1m225/225\u001b[0m \u001b[32m━━━━━━━━━━━━━━━━━━━━\u001b[0m\u001b[37m\u001b[0m \u001b[1m7s\u001b[0m 30ms/step - accuracy: 0.8164 - loss: 0.4771 - val_accuracy: 0.8011 - val_loss: 0.5272\n",
      "Epoch 17/20\n",
      "\u001b[1m225/225\u001b[0m \u001b[32m━━━━━━━━━━━━━━━━━━━━\u001b[0m\u001b[37m\u001b[0m \u001b[1m7s\u001b[0m 29ms/step - accuracy: 0.8202 - loss: 0.4550 - val_accuracy: 0.8883 - val_loss: 0.3008\n",
      "Epoch 18/20\n",
      "\u001b[1m225/225\u001b[0m \u001b[32m━━━━━━━━━━━━━━━━━━━━\u001b[0m\u001b[37m\u001b[0m \u001b[1m7s\u001b[0m 29ms/step - accuracy: 0.8547 - loss: 0.3794 - val_accuracy: 0.7544 - val_loss: 0.9753\n",
      "Epoch 19/20\n",
      "\u001b[1m225/225\u001b[0m \u001b[32m━━━━━━━━━━━━━━━━━━━━\u001b[0m\u001b[37m\u001b[0m \u001b[1m7s\u001b[0m 29ms/step - accuracy: 0.8514 - loss: 0.3950 - val_accuracy: 0.8711 - val_loss: 0.3483\n",
      "Epoch 20/20\n",
      "\u001b[1m225/225\u001b[0m \u001b[32m━━━━━━━━━━━━━━━━━━━━\u001b[0m\u001b[37m\u001b[0m \u001b[1m7s\u001b[0m 30ms/step - accuracy: 0.8636 - loss: 0.3680 - val_accuracy: 0.9044 - val_loss: 0.2648\n"
     ]
    }
   ],
   "source": [
    "history = model.fit(\n",
    "    train_ds,\n",
    "    validation_data=val_ds,\n",
    "    epochs=20\n",
    ")\n"
   ]
  },
  {
   "cell_type": "markdown",
   "id": "14d8c8ba",
   "metadata": {},
   "source": [
    "After training, show the training accuracy as well as the testing accuracy."
   ]
  },
  {
   "cell_type": "code",
   "execution_count": 251,
   "id": "dae86ad3",
   "metadata": {},
   "outputs": [
    {
     "name": "stdout",
     "output_type": "stream",
     "text": [
      "\u001b[1m 10/225\u001b[0m \u001b[37m━━━━━━━━━━━━━━━━━━━━\u001b[0m \u001b[1m1s\u001b[0m 6ms/step - accuracy: 0.9257 - loss: 0.2121 "
     ]
    },
    {
     "name": "stdout",
     "output_type": "stream",
     "text": [
      "\u001b[1m225/225\u001b[0m \u001b[32m━━━━━━━━━━━━━━━━━━━━\u001b[0m\u001b[37m\u001b[0m \u001b[1m1s\u001b[0m 6ms/step - accuracy: 0.9042 - loss: 0.2503\n",
      "Train accuracy: 90.31%\n",
      "\u001b[1m32/32\u001b[0m \u001b[32m━━━━━━━━━━━━━━━━━━━━\u001b[0m\u001b[37m\u001b[0m \u001b[1m0s\u001b[0m 6ms/step - accuracy: 0.8982 - loss: 0.2633\n",
      "Test accuracy: 89.40%\n"
     ]
    }
   ],
   "source": [
    "train_loss, train_acc = model.evaluate(train_ds)\n",
    "print(f\"Train accuracy: {train_acc:.2%}\")\n",
    "\n",
    "\n",
    "test_loss, test_acc = model.evaluate(test_ds)\n",
    "print(f\"Test accuracy: {test_acc:.2%}\")\n"
   ]
  },
  {
   "cell_type": "markdown",
   "id": "bcb22440",
   "metadata": {},
   "source": [
    "Plot the Training and Validation accuracy over epochs to visualize training results to help drive network update decisions."
   ]
  },
  {
   "cell_type": "code",
   "execution_count": 256,
   "id": "52be9e9d",
   "metadata": {},
   "outputs": [
    {
     "data": {
      "image/png": "[encoded data removed]",
      "text/plain": [
       "<Figure size 640x480 with 1 Axes>"
      ]
     },
     "metadata": {},
     "output_type": "display_data"
    }
   ],
   "source": [
    "import matplotlib.pyplot as plt\n",
    "\n",
    "plt.plot(history.history['accuracy'], label='Train Accuracy')\n",
    "plt.plot(history.history['val_accuracy'], label='Val Accuracy')\n",
    "plt.title('Model Accuracy')\n",
    "plt.xlabel('Epoch')\n",
    "plt.ylabel('Accuracy')\n",
    "plt.legend()\n",
    "plt.show()\n"
   ]
  },
  {
   "cell_type": "markdown",
   "id": "0d2cfcb7",
   "metadata": {},
   "source": [
    "Process the images to be visualized as shown in the Baseline kaggle notebook.\n",
    "Unbatch to single images and append to respective list (image, label) and make them arrays."
   ]
  },
  {
   "cell_type": "code",
   "execution_count": null,
   "id": "685f19a2",
   "metadata": {},
   "outputs": [],
   "source": [
    "X_test, y_test = [], []\n",
    "for img, label in test_ds.unbatch():\n",
    "    X_test.append(img.numpy())\n",
    "    y_test.append(label.numpy())\n",
    "X_test = np.array(X_test)\n",
    "y_test = np.array(y_test)\n",
    "\n",
    "SHAPES = ['Triangle', 'Square', 'Pentagon', 'Hexagon']  # 0-3 mapping to shapes\n"
   ]
  },
  {
   "cell_type": "markdown",
   "id": "f5aa1f55",
   "metadata": {},
   "source": [
    "Find out what the expected shape of the output is versus what you have declared in SHAPES"
   ]
  },
  {
   "cell_type": "code",
   "execution_count": 254,
   "id": "b0db2de2",
   "metadata": {},
   "outputs": [
    {
     "name": "stdout",
     "output_type": "stream",
     "text": [
      "Model output shape: (None, 10)\n",
      "SHAPES: ['Triangle', 'Square', 'Pentagon', 'Hexagon']\n"
     ]
    }
   ],
   "source": [
    "print(\"Model output shape:\", model.output_shape)\n",
    "print(\"SHAPES:\", SHAPES)\n"
   ]
  },
  {
   "cell_type": "markdown",
   "id": "42cb26f1",
   "metadata": {},
   "source": [
    "Evaluation on unseen images"
   ]
  },
  {
   "cell_type": "code",
   "execution_count": 258,
   "id": "d996b7b3",
   "metadata": {},
   "outputs": [
    {
     "name": "stdout",
     "output_type": "stream",
     "text": [
      "\u001b[1m1/1\u001b[0m \u001b[32m━━━━━━━━━━━━━━━━━━━━\u001b[0m\u001b[37m\u001b[0m \u001b[1m0s\u001b[0m 39ms/step\n"
     ]
    },
    {
     "name": "stdout",
     "output_type": "stream",
     "text": [
      "\u001b[1m1/1\u001b[0m \u001b[32m━━━━━━━━━━━━━━━━━━━━\u001b[0m\u001b[37m\u001b[0m \u001b[1m0s\u001b[0m 40ms/step\n",
      "\u001b[1m1/1\u001b[0m \u001b[32m━━━━━━━━━━━━━━━━━━━━\u001b[0m\u001b[37m\u001b[0m \u001b[1m0s\u001b[0m 37ms/step\n",
      "\u001b[1m1/1\u001b[0m \u001b[32m━━━━━━━━━━━━━━━━━━━━\u001b[0m\u001b[37m\u001b[0m \u001b[1m0s\u001b[0m 39ms/step\n",
      "\u001b[1m1/1\u001b[0m \u001b[32m━━━━━━━━━━━━━━━━━━━━\u001b[0m\u001b[37m\u001b[0m \u001b[1m0s\u001b[0m 37ms/step\n",
      "\u001b[1m1/1\u001b[0m \u001b[32m━━━━━━━━━━━━━━━━━━━━\u001b[0m\u001b[37m\u001b[0m \u001b[1m0s\u001b[0m 38ms/step\n"
     ]
    },
    {
     "data": {
      "image/png": "[encoded data removed]",
      "text/plain": [
       "<Figure size 1200x800 with 6 Axes>"
      ]
     },
     "metadata": {},
     "output_type": "display_data"
    }
   ],
   "source": [
    "from random import randint\n",
    "import matplotlib.pyplot as plt\n",
    "import numpy as np\n",
    "\n",
    "plt.figure(figsize=[12, 8])\n",
    "for i in range(1, 7):\n",
    "    rand_idx = randint(0, len(X_test)-1)\n",
    "    img = X_test[rand_idx]\n",
    "    pred = model.predict(np.expand_dims(img, axis=0)).argmax()\n",
    "    label = int(y_test[rand_idx])\n",
    "\n",
    "    plt.subplot(2, 3, i)\n",
    "    plt.imshow(img.squeeze(), cmap=None) \n",
    "    plt.axis(\"off\")\n",
    "    plt.title(f\"Prediction: {SHAPES[pred]}\", \n",
    "              color=\"green\" if pred == label else \"red\")\n",
    "plt.show()\n"
   ]
  },
  {
   "cell_type": "markdown",
   "id": "10d01ab3",
   "metadata": {},
   "source": [
    "Resources:\n",
    "\n",
    "[1] K. Bhutani, “Python|Pandas DataFrame.isin()”, GeeksforGeeks, [Online]. Available: https://www.geeksforgeeks.org/python-pandas-dataframe-isin/. [Accessed: Apr. 23, 2025].\n",
    "\n",
    "[2] G. Recio, “Color Polygon Images”, Kaggle Datasets, [Online]. Available: https://www.kaggle.com/datasets/gonzalorecioc/color-polygon-images. [Accessed: Apr. 23, 2025].\n",
    "\n",
    "[3] G. Recio, “Beat my model! Shape Classifier 57% accuracy”, Kaggle Notebooks, [Online]. Available: https://www.kaggle.com/code/gonzalorecioc/beat-my-model-shape-classifier-57-accuracy. [Accessed: Apr. 23, 2025].\n",
    "\n",
    "[4] NNDesignDeepLearning, “NNDesignDeepLearning GitHub Repository”, GitHub, [Online]. Available: https://github.com/NNDesignDeepLearning/NNDesignDeepLearning. [Accessed: Apr. 23, 2025].\n",
    "\n"
   ]
  }
 ],
 "metadata": {
  "kernelspec": {
   "display_name": "Python 3",
   "language": "python",
   "name": "python3"
  },
  "language_info": {
   "codemirror_mode": {
    "name": "ipython",
    "version": 3
   },
   "file_extension": ".py",
   "mimetype": "text/x-python",
   "name": "python",
   "nbconvert_exporter": "python",
   "pygments_lexer": "ipython3",
   "version": "3.12.3"
  }
 },
 "nbformat": 4,
 "nbformat_minor": 5
}
